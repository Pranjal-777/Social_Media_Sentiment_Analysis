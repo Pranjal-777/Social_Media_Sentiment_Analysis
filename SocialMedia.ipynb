{
  "nbformat": 4,
  "nbformat_minor": 0,
  "metadata": {
    "colab": {
      "provenance": [],
      "authorship_tag": "ABX9TyNuxO8c7HRxw309CfGjlugp",
      "include_colab_link": true
    },
    "kernelspec": {
      "name": "python3",
      "display_name": "Python 3"
    },
    "language_info": {
      "name": "python"
    }
  },
  "cells": [
    {
      "cell_type": "markdown",
      "metadata": {
        "id": "view-in-github",
        "colab_type": "text"
      },
      "source": [
        "<a href=\"https://colab.research.google.com/github/Pranjal-777/Social_Media_Sentiment_Analysis/blob/main/SocialMedia.ipynb\" target=\"_parent\"><img src=\"https://colab.research.google.com/assets/colab-badge.svg\" alt=\"Open In Colab\"/></a>"
      ]
    },
    {
      "cell_type": "code",
      "execution_count": 11,
      "metadata": {
        "id": "w9t4H5Q_FHw_",
        "colab": {
          "base_uri": "https://localhost:8080/",
          "height": 91
        },
        "outputId": "417d38b7-b129-44c4-c835-8fb2ce06b056"
      },
      "outputs": [
        {
          "output_type": "display_data",
          "data": {
            "text/plain": [
              "<IPython.core.display.HTML object>"
            ],
            "text/html": [
              "\n",
              "     <input type=\"file\" id=\"files-3afadf09-991b-4339-922f-0fc8b7813f96\" name=\"files[]\" multiple disabled\n",
              "        style=\"border:none\" />\n",
              "     <output id=\"result-3afadf09-991b-4339-922f-0fc8b7813f96\">\n",
              "      Upload widget is only available when the cell has been executed in the\n",
              "      current browser session. Please rerun this cell to enable.\n",
              "      </output>\n",
              "      <script>// Copyright 2017 Google LLC\n",
              "//\n",
              "// Licensed under the Apache License, Version 2.0 (the \"License\");\n",
              "// you may not use this file except in compliance with the License.\n",
              "// You may obtain a copy of the License at\n",
              "//\n",
              "//      http://www.apache.org/licenses/LICENSE-2.0\n",
              "//\n",
              "// Unless required by applicable law or agreed to in writing, software\n",
              "// distributed under the License is distributed on an \"AS IS\" BASIS,\n",
              "// WITHOUT WARRANTIES OR CONDITIONS OF ANY KIND, either express or implied.\n",
              "// See the License for the specific language governing permissions and\n",
              "// limitations under the License.\n",
              "\n",
              "/**\n",
              " * @fileoverview Helpers for google.colab Python module.\n",
              " */\n",
              "(function(scope) {\n",
              "function span(text, styleAttributes = {}) {\n",
              "  const element = document.createElement('span');\n",
              "  element.textContent = text;\n",
              "  for (const key of Object.keys(styleAttributes)) {\n",
              "    element.style[key] = styleAttributes[key];\n",
              "  }\n",
              "  return element;\n",
              "}\n",
              "\n",
              "// Max number of bytes which will be uploaded at a time.\n",
              "const MAX_PAYLOAD_SIZE = 100 * 1024;\n",
              "\n",
              "function _uploadFiles(inputId, outputId) {\n",
              "  const steps = uploadFilesStep(inputId, outputId);\n",
              "  const outputElement = document.getElementById(outputId);\n",
              "  // Cache steps on the outputElement to make it available for the next call\n",
              "  // to uploadFilesContinue from Python.\n",
              "  outputElement.steps = steps;\n",
              "\n",
              "  return _uploadFilesContinue(outputId);\n",
              "}\n",
              "\n",
              "// This is roughly an async generator (not supported in the browser yet),\n",
              "// where there are multiple asynchronous steps and the Python side is going\n",
              "// to poll for completion of each step.\n",
              "// This uses a Promise to block the python side on completion of each step,\n",
              "// then passes the result of the previous step as the input to the next step.\n",
              "function _uploadFilesContinue(outputId) {\n",
              "  const outputElement = document.getElementById(outputId);\n",
              "  const steps = outputElement.steps;\n",
              "\n",
              "  const next = steps.next(outputElement.lastPromiseValue);\n",
              "  return Promise.resolve(next.value.promise).then((value) => {\n",
              "    // Cache the last promise value to make it available to the next\n",
              "    // step of the generator.\n",
              "    outputElement.lastPromiseValue = value;\n",
              "    return next.value.response;\n",
              "  });\n",
              "}\n",
              "\n",
              "/**\n",
              " * Generator function which is called between each async step of the upload\n",
              " * process.\n",
              " * @param {string} inputId Element ID of the input file picker element.\n",
              " * @param {string} outputId Element ID of the output display.\n",
              " * @return {!Iterable<!Object>} Iterable of next steps.\n",
              " */\n",
              "function* uploadFilesStep(inputId, outputId) {\n",
              "  const inputElement = document.getElementById(inputId);\n",
              "  inputElement.disabled = false;\n",
              "\n",
              "  const outputElement = document.getElementById(outputId);\n",
              "  outputElement.innerHTML = '';\n",
              "\n",
              "  const pickedPromise = new Promise((resolve) => {\n",
              "    inputElement.addEventListener('change', (e) => {\n",
              "      resolve(e.target.files);\n",
              "    });\n",
              "  });\n",
              "\n",
              "  const cancel = document.createElement('button');\n",
              "  inputElement.parentElement.appendChild(cancel);\n",
              "  cancel.textContent = 'Cancel upload';\n",
              "  const cancelPromise = new Promise((resolve) => {\n",
              "    cancel.onclick = () => {\n",
              "      resolve(null);\n",
              "    };\n",
              "  });\n",
              "\n",
              "  // Wait for the user to pick the files.\n",
              "  const files = yield {\n",
              "    promise: Promise.race([pickedPromise, cancelPromise]),\n",
              "    response: {\n",
              "      action: 'starting',\n",
              "    }\n",
              "  };\n",
              "\n",
              "  cancel.remove();\n",
              "\n",
              "  // Disable the input element since further picks are not allowed.\n",
              "  inputElement.disabled = true;\n",
              "\n",
              "  if (!files) {\n",
              "    return {\n",
              "      response: {\n",
              "        action: 'complete',\n",
              "      }\n",
              "    };\n",
              "  }\n",
              "\n",
              "  for (const file of files) {\n",
              "    const li = document.createElement('li');\n",
              "    li.append(span(file.name, {fontWeight: 'bold'}));\n",
              "    li.append(span(\n",
              "        `(${file.type || 'n/a'}) - ${file.size} bytes, ` +\n",
              "        `last modified: ${\n",
              "            file.lastModifiedDate ? file.lastModifiedDate.toLocaleDateString() :\n",
              "                                    'n/a'} - `));\n",
              "    const percent = span('0% done');\n",
              "    li.appendChild(percent);\n",
              "\n",
              "    outputElement.appendChild(li);\n",
              "\n",
              "    const fileDataPromise = new Promise((resolve) => {\n",
              "      const reader = new FileReader();\n",
              "      reader.onload = (e) => {\n",
              "        resolve(e.target.result);\n",
              "      };\n",
              "      reader.readAsArrayBuffer(file);\n",
              "    });\n",
              "    // Wait for the data to be ready.\n",
              "    let fileData = yield {\n",
              "      promise: fileDataPromise,\n",
              "      response: {\n",
              "        action: 'continue',\n",
              "      }\n",
              "    };\n",
              "\n",
              "    // Use a chunked sending to avoid message size limits. See b/62115660.\n",
              "    let position = 0;\n",
              "    do {\n",
              "      const length = Math.min(fileData.byteLength - position, MAX_PAYLOAD_SIZE);\n",
              "      const chunk = new Uint8Array(fileData, position, length);\n",
              "      position += length;\n",
              "\n",
              "      const base64 = btoa(String.fromCharCode.apply(null, chunk));\n",
              "      yield {\n",
              "        response: {\n",
              "          action: 'append',\n",
              "          file: file.name,\n",
              "          data: base64,\n",
              "        },\n",
              "      };\n",
              "\n",
              "      let percentDone = fileData.byteLength === 0 ?\n",
              "          100 :\n",
              "          Math.round((position / fileData.byteLength) * 100);\n",
              "      percent.textContent = `${percentDone}% done`;\n",
              "\n",
              "    } while (position < fileData.byteLength);\n",
              "  }\n",
              "\n",
              "  // All done.\n",
              "  yield {\n",
              "    response: {\n",
              "      action: 'complete',\n",
              "    }\n",
              "  };\n",
              "}\n",
              "\n",
              "scope.google = scope.google || {};\n",
              "scope.google.colab = scope.google.colab || {};\n",
              "scope.google.colab._files = {\n",
              "  _uploadFiles,\n",
              "  _uploadFilesContinue,\n",
              "};\n",
              "})(self);\n",
              "</script> "
            ]
          },
          "metadata": {}
        },
        {
          "output_type": "stream",
          "name": "stdout",
          "text": [
            "Saving sentimentdataset.xlsx to sentimentdataset.xlsx\n"
          ]
        }
      ],
      "source": [
        "from google.colab import files\n",
        "\n",
        "# Upload the dataset\n",
        "uploaded = files.upload()"
      ]
    },
    {
      "cell_type": "code",
      "source": [
        "import pandas as pd\n",
        "import numpy as np\n",
        "\n",
        "# Replace 'sentimentdataset.csv' with the name of your uploaded file\n",
        "data = pd.read_excel('sentimentdataset.xlsx')\n",
        "\n",
        "# Display the first few rows and dataset info\n",
        "print(data.head())\n"
      ],
      "metadata": {
        "colab": {
          "base_uri": "https://localhost:8080/"
        },
        "id": "rUZlRgBRKLl2",
        "outputId": "98d6efbc-bf3d-4ecc-bf06-0cc1f7063976"
      },
      "execution_count": 16,
      "outputs": [
        {
          "output_type": "stream",
          "name": "stdout",
          "text": [
            "   Unnamed: 0.1  Unnamed: 0  \\\n",
            "0             0           0   \n",
            "1             1           1   \n",
            "2             2           2   \n",
            "3             3           3   \n",
            "4             4           4   \n",
            "\n",
            "                                                Text    Sentiment  \\\n",
            "0   Enjoying a beautiful day at the park!        ...   Positive     \n",
            "1   Traffic was terrible this morning.           ...   Negative     \n",
            "2   Just finished an amazing workout! ðŸ’ª       ...   Positive     \n",
            "3   Excited about the upcoming weekend getaway!  ...   Positive     \n",
            "4   Trying out a new recipe for dinner tonight.  ...   Neutral      \n",
            "\n",
            "            Timestamp            User     Platform  \\\n",
            "0 2023-01-15 12:30:00   User123          Twitter     \n",
            "1 2023-01-15 08:45:00   CommuterX        Twitter     \n",
            "2 2023-01-15 15:45:00   FitnessFan      Instagram    \n",
            "3 2023-01-15 18:20:00   AdventureX       Facebook    \n",
            "4 2023-01-15 19:55:00   ChefCook        Instagram    \n",
            "\n",
            "                                     Hashtags  Retweets  Likes       Country  \\\n",
            "0   #Nature #Park                                    15     30     USA         \n",
            "1   #Traffic #Morning                                 5     10     Canada      \n",
            "2   #Fitness #Workout                                20     40   USA           \n",
            "3   #Travel #Adventure                                8     15     UK          \n",
            "4   #Cooking #Food                                   12     25    Australia    \n",
            "\n",
            "   Year  Month  Day  Hour  \n",
            "0  2023      1   15    12  \n",
            "1  2023      1   15     8  \n",
            "2  2023      1   15    15  \n",
            "3  2023      1   15    18  \n",
            "4  2023      1   15    19  \n"
          ]
        }
      ]
    },
    {
      "cell_type": "code",
      "source": [
        "print(data.info())"
      ],
      "metadata": {
        "colab": {
          "base_uri": "https://localhost:8080/"
        },
        "id": "No-F9jF7UNFh",
        "outputId": "82809674-d32d-40eb-d581-b3de4e0e58da"
      },
      "execution_count": 15,
      "outputs": [
        {
          "output_type": "stream",
          "name": "stdout",
          "text": [
            "<class 'pandas.core.frame.DataFrame'>\n",
            "RangeIndex: 732 entries, 0 to 731\n",
            "Data columns (total 15 columns):\n",
            " #   Column        Non-Null Count  Dtype         \n",
            "---  ------        --------------  -----         \n",
            " 0   Unnamed: 0.1  732 non-null    int64         \n",
            " 1   Unnamed: 0    732 non-null    int64         \n",
            " 2   Text          732 non-null    object        \n",
            " 3   Sentiment     732 non-null    object        \n",
            " 4   Timestamp     732 non-null    datetime64[ns]\n",
            " 5   User          732 non-null    object        \n",
            " 6   Platform      732 non-null    object        \n",
            " 7   Hashtags      732 non-null    object        \n",
            " 8   Retweets      732 non-null    int64         \n",
            " 9   Likes         732 non-null    int64         \n",
            " 10  Country       732 non-null    object        \n",
            " 11  Year          732 non-null    int64         \n",
            " 12  Month         732 non-null    int64         \n",
            " 13  Day           732 non-null    int64         \n",
            " 14  Hour          732 non-null    int64         \n",
            "dtypes: datetime64[ns](1), int64(8), object(6)\n",
            "memory usage: 85.9+ KB\n",
            "None\n"
          ]
        }
      ]
    },
    {
      "cell_type": "markdown",
      "source": [
        "1. What is the overall distribution of sentiments (positive, negative, neutral) across the posts?\n"
      ],
      "metadata": {
        "id": "ebvdrnwpUTIf"
      }
    },
    {
      "cell_type": "code",
      "source": [
        "# Count occurrences of each sentiment\n",
        "sentiment_distribution = data['Sentiment'].value_counts()       #sentiment is case sensative so always check data properly\n",
        "\n",
        "print(\"Sentiment Distribution:\")\n",
        "print(sentiment_distribution)"
      ],
      "metadata": {
        "colab": {
          "base_uri": "https://localhost:8080/"
        },
        "id": "2vNQZ-bgKLiq",
        "outputId": "7122be9c-b12e-41a6-89d6-844417a51f2c"
      },
      "execution_count": 18,
      "outputs": [
        {
          "output_type": "stream",
          "name": "stdout",
          "text": [
            "Sentiment Distribution:\n",
            "Sentiment\n",
            "Positive           44\n",
            "Joy                42\n",
            "Excitement         32\n",
            "Neutral            14\n",
            "Contentment        14\n",
            "                   ..\n",
            "Adrenaline          1\n",
            "Harmony             1\n",
            "ArtisticBurst       1\n",
            "Radiance            1\n",
            "Elegance            1\n",
            "Name: count, Length: 279, dtype: int64\n"
          ]
        }
      ]
    },
    {
      "cell_type": "markdown",
      "source": [
        "2. Which platform generates the most engagement in terms of likes and retweets?"
      ],
      "metadata": {
        "id": "cCA2N1F_U9ZG"
      }
    },
    {
      "cell_type": "code",
      "source": [
        "# Calculate total engagement (likes + retweets) for each platform\n",
        "data['Total_Engagement'] = data['Likes'] + data['Retweets']\n",
        "platform_engagement = data.groupby('Platform')['Total_Engagement'].sum().sort_values(ascending=False)\n",
        "\n",
        "print(\"Platform Engagement (Total Likes + Retweets):\")\n",
        "print(platform_engagement)"
      ],
      "metadata": {
        "colab": {
          "base_uri": "https://localhost:8080/"
        },
        "id": "3csmSX0ZUMyt",
        "outputId": "e116b420-8d42-44b1-e6a9-469a5811b4fb"
      },
      "execution_count": 20,
      "outputs": [
        {
          "output_type": "stream",
          "name": "stdout",
          "text": [
            "Platform Engagement (Total Likes + Retweets):\n",
            "Platform\n",
            "Instagram     17464\n",
            "Facebook      14516\n",
            "Twitter        8727\n",
            "Twitter        6441\n",
            "Name: Total_Engagement, dtype: int64\n"
          ]
        }
      ]
    },
    {
      "cell_type": "markdown",
      "source": [
        "3. Which users have the highest average engagement (likes and retweets per post)?"
      ],
      "metadata": {
        "id": "aCCxdR-gVXfU"
      }
    },
    {
      "cell_type": "code",
      "source": [
        "# Calculate average engagement for each user\n",
        "user_avg_engagement = data.groupby('User')['Total_Engagement'].mean().sort_values(ascending=False)\n",
        "\n",
        "print(\"Users with Highest Average Engagement:\")\n",
        "print(user_avg_engagement.head(10))  # Display top 10 users"
      ],
      "metadata": {
        "colab": {
          "base_uri": "https://localhost:8080/"
        },
        "id": "tJ7H4XlRUMwE",
        "outputId": "45f27ed1-82fb-4c54-eedb-de14bdf9764c"
      },
      "execution_count": 21,
      "outputs": [
        {
          "output_type": "stream",
          "name": "stdout",
          "text": [
            "Users with Highest Average Engagement:\n",
            "User\n",
            "DanceEnthusiastCityNightPerformance     120.0\n",
            "Wanderlust                              120.0\n",
            "BieberDanceEnthusiast                   120.0\n",
            "SolitaryDescent                         120.0\n",
            "SoccerFanTeamDefeats                    120.0\n",
            "ColorfulLaughter                        120.0\n",
            "CosmosExplorer                          120.0\n",
            "CultureEnthusiast                       120.0\n",
            "NatureEnthusiastSunsetWonder            120.0\n",
            "SunshineDancer                          120.0\n",
            "Name: Total_Engagement, dtype: float64\n"
          ]
        }
      ]
    },
    {
      "cell_type": "code",
      "source": [],
      "metadata": {
        "id": "m5aD0apHUMtJ"
      },
      "execution_count": null,
      "outputs": []
    }
  ]
}